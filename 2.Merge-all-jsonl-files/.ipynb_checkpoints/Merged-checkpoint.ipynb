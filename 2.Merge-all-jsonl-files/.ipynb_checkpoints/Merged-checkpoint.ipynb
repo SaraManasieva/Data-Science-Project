{
 "cells": [
  {
   "cell_type": "code",
   "execution_count": 1,
   "id": "934e20dd",
   "metadata": {},
   "outputs": [
    {
     "name": "stdout",
     "output_type": "stream",
     "text": [
      "Сите фајлови се споени во dataset.jsonl.\n"
     ]
    }
   ],
   "source": [
    "import glob\n",
    "import jsonlines\n",
    "\n",
    "# Листа на вашите JSONL фајлови (пример: сите .jsonl фајлови во тековниот директориум)\n",
    "file_paths = glob.glob('*.jsonl')\n",
    "\n",
    "# Целен фајл каде ќе ги споите сите фајлови\n",
    "output_file = 'dataset.jsonl'\n",
    "\n",
    "# Отварање на целниот фајл за спојување\n",
    "with jsonlines.open(output_file, mode='w') as writer:\n",
    "    for file_path in file_paths:\n",
    "        # Читање на секој од постоечките JSONL фајлови\n",
    "        with jsonlines.open(file_path) as reader:\n",
    "            for obj in reader:\n",
    "                # Запишување на секој JSON објект во целниот фајл\n",
    "                writer.write(obj)\n",
    "\n",
    "print(f'Сите фајлови се споени во {output_file}.')\n"
   ]
  }
 ],
 "metadata": {
  "kernelspec": {
   "display_name": "Python 3 (ipykernel)",
   "language": "python",
   "name": "python3"
  },
  "language_info": {
   "codemirror_mode": {
    "name": "ipython",
    "version": 3
   },
   "file_extension": ".py",
   "mimetype": "text/x-python",
   "name": "python",
   "nbconvert_exporter": "python",
   "pygments_lexer": "ipython3",
   "version": "3.11.5"
  }
 },
 "nbformat": 4,
 "nbformat_minor": 5
}
