{
 "cells": [
  {
   "cell_type": "code",
   "execution_count": 3,
   "id": "874cc392",
   "metadata": {},
   "outputs": [
    {
     "name": "stdout",
     "output_type": "stream",
     "text": [
      "Нема дупликати на линии во фајлот.\n"
     ]
    }
   ],
   "source": [
    "def find_duplicate_lines(file_path):\n",
    "    lines_seen = set()\n",
    "    duplicate_lines = set()\n",
    "\n",
    "    with open(file_path, 'r', encoding='utf-8') as file:\n",
    "        for line in file:\n",
    "            if line in lines_seen:\n",
    "                duplicate_lines.add(line)\n",
    "            else:\n",
    "                lines_seen.add(line)\n",
    "\n",
    "    return duplicate_lines\n",
    "\n",
    "file_path = 'merged.jsonl'\n",
    "duplicate_lines = find_duplicate_lines(file_path)\n",
    "if duplicate_lines:\n",
    "    print(\"Пронајдени се следниве дупликати на линии:\")\n",
    "    for line in duplicate_lines:\n",
    "        print(line.rstrip())  # Печати ги дупликатните линии без празнина на крајот\n",
    "        print(\"\\n\")\n",
    "else:\n",
    "    print(\"Нема дупликати на линии во фајлот.\")\n"
   ]
  }
 ],
 "metadata": {
  "kernelspec": {
   "display_name": "Python 3 (ipykernel)",
   "language": "python",
   "name": "python3"
  },
  "language_info": {
   "codemirror_mode": {
    "name": "ipython",
    "version": 3
   },
   "file_extension": ".py",
   "mimetype": "text/x-python",
   "name": "python",
   "nbconvert_exporter": "python",
   "pygments_lexer": "ipython3",
   "version": "3.11.5"
  }
 },
 "nbformat": 4,
 "nbformat_minor": 5
}
